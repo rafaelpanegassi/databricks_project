{
 "cells": [
  {
   "cell_type": "code",
   "execution_count": 0,
   "metadata": {
    "application/vnd.databricks.v1+cell": {
     "cellMetadata": {
      "byteLimit": 2048000,
      "implicitDf": true,
      "rowLimit": 10000
     },
     "inputWidgets": {},
     "nuid": "c59667e4-7fae-47a4-b388-81bdae4c4299",
     "showTitle": false,
     "tableResultSettingsMap": {},
     "title": ""
    }
   },
   "outputs": [],
   "source": [
    "%sql\n",
    "CREATE VOLUME IF NOT EXISTS lakehouse.raw.yfinance"
   ]
  },
  {
   "cell_type": "code",
   "execution_count": 0,
   "metadata": {
    "application/vnd.databricks.v1+cell": {
     "cellMetadata": {
      "byteLimit": 2048000,
      "rowLimit": 10000
     },
     "inputWidgets": {},
     "nuid": "6e8653da-880d-44e1-933e-95f97484c71a",
     "showTitle": false,
     "tableResultSettingsMap": {},
     "title": ""
    }
   },
   "outputs": [],
   "source": [
    "%pip install yfinance"
   ]
  },
  {
   "cell_type": "code",
   "execution_count": 0,
   "metadata": {
    "application/vnd.databricks.v1+cell": {
     "cellMetadata": {
      "byteLimit": 2048000,
      "rowLimit": 10000
     },
     "inputWidgets": {},
     "nuid": "e456c56b-38ed-4891-b8f5-8749ab44ed20",
     "showTitle": false,
     "tableResultSettingsMap": {},
     "title": ""
    }
   },
   "outputs": [],
   "source": [
    "dbutils.library.restartPython()"
   ]
  },
  {
   "cell_type": "code",
   "execution_count": 0,
   "metadata": {
    "application/vnd.databricks.v1+cell": {
     "cellMetadata": {
      "byteLimit": 2048000,
      "rowLimit": 10000
     },
     "inputWidgets": {},
     "nuid": "2dd792c8-507a-456a-b1ed-ba50bf0a56ce",
     "showTitle": false,
     "tableResultSettingsMap": {},
     "title": ""
    }
   },
   "outputs": [],
   "source": [
    "import yfinance as yf\n",
    "import pandas as pd\n",
    "from datetime import datetime, UTC\n",
    "\n",
    "# Caminho do Volume UC (Raw Zone)\n",
    "RAW_BASE_PATH = \"/Volumes/lakehouse/raw/yfinance/commodities/latest_prices\"\n",
    "\n",
    "# Garante que o diretório existe (Databricks)\n",
    "dbutils.fs.mkdirs(RAW_BASE_PATH)\n",
    "\n",
    "def get_commodities_df() -> pd.DataFrame:\n",
    "    \"\"\"\n",
    "    Retorna as últimas cotações (1 minuto) de Ouro, Petróleo e Prata via Yahoo Finance.\n",
    "    \"\"\"\n",
    "    symbols = [\"GC=F\", \"CL=F\", \"SI=F\"]  # Ouro, Petróleo, Prata\n",
    "    dfs = []\n",
    "\n",
    "    for sym in symbols:\n",
    "        try:\n",
    "            # Histórico de 1 dia com intervalo de 1 minuto, pega o último\n",
    "            ultimo_df = yf.Ticker(sym).history(period=\"1d\", interval=\"1m\")[[\"Close\"]].tail(1)\n",
    "            if ultimo_df.empty:\n",
    "                continue\n",
    "\n",
    "            ultimo_df = ultimo_df.rename(columns={\"Close\": \"preco\"})\n",
    "            ultimo_df[\"ativo\"] = sym\n",
    "            ultimo_df[\"moeda\"] = \"USD\"\n",
    "            ultimo_df[\"horario_coleta\"] = datetime.now(UTC).isoformat()\n",
    "            dfs.append(ultimo_df[[\"ativo\", \"preco\", \"moeda\", \"horario_coleta\"]])\n",
    "\n",
    "        except Exception as e:\n",
    "            print(f\"⚠️ Erro ao buscar {sym}: {e}\")\n",
    "\n",
    "    if not dfs:\n",
    "        raise ValueError(\"Nenhuma cotação retornada pelo Yahoo Finance.\")\n",
    "\n",
    "    df = pd.concat(dfs, ignore_index=True)\n",
    "    df[\"source_system\"] = \"yfinance\"\n",
    "    df[\"source_endpoint\"] = \"https://finance.yahoo.com\"\n",
    "    df[\"ingestion_ts_utc\"] = datetime.now(UTC).isoformat()\n",
    "\n",
    "    return df\n",
    "\n",
    "\n",
    "# ===== 1️⃣ Coleta =====\n",
    "df = get_commodities_df()\n",
    "\n",
    "# ===== 2️⃣ Caminho de salvamento =====\n",
    "file_name = f\"{RAW_BASE_PATH}/yfinance_commodities_{datetime.now(UTC).strftime('%Y%m%d_%H%M%S')}.json\"\n",
    "\n",
    "# ===== 3️⃣ Escrita simples em JSON =====\n",
    "df.to_json(file_name, orient=\"records\", lines=True, force_ascii=False)\n",
    "\n",
    "print(f\"✅ JSON salvo em: {file_name}\")"
   ]
  },
  {
   "cell_type": "code",
   "execution_count": 0,
   "metadata": {
    "application/vnd.databricks.v1+cell": {
     "cellMetadata": {},
     "inputWidgets": {},
     "nuid": "fcec3974-e824-4301-b95e-e0ba36763d05",
     "showTitle": false,
     "tableResultSettingsMap": {},
     "title": ""
    }
   },
   "outputs": [],
   "source": []
  },
  {
   "cell_type": "code",
   "execution_count": 0,
   "metadata": {
    "application/vnd.databricks.v1+cell": {
     "cellMetadata": {},
     "inputWidgets": {},
     "nuid": "d4208ed5-5e2a-445a-b4cc-c0216f8e36bc",
     "showTitle": false,
     "tableResultSettingsMap": {},
     "title": ""
    }
   },
   "outputs": [],
   "source": []
  }
 ],
 "metadata": {
  "application/vnd.databricks.v1+notebook": {
   "computePreferences": null,
   "dashboards": [],
   "environmentMetadata": {
    "base_environment": "",
    "environment_version": "4"
   },
   "inputWidgetPreferences": null,
   "language": "python",
   "notebookMetadata": {
    "mostRecentlyExecutedCommandWithImplicitDF": {
     "commandId": 4749911067597413,
     "dataframes": [
      "_sqldf"
     ]
    },
    "pythonIndentUnit": 4
   },
   "notebookName": "yahoo_finance_api",
   "widgets": {}
  },
  "language_info": {
   "name": "python"
  }
 },
 "nbformat": 4,
 "nbformat_minor": 0
}
